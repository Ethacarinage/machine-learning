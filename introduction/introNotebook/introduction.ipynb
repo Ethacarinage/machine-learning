{
 "cells": [
  {
   "cell_type": "markdown",
   "metadata": {},
   "source": [
    "# Introduction\n",
    "\n",
    "We are going step by step to understand the basics of **Machine Learning** with some images and examples.\n",
    "\n",
    "## What is Machine Learning ?\n",
    "\n",
    "Is a field of computer science that gives computers the ability to learn\n",
    "without being explicitly programmed [A.L.Samuel](http://ieeexplore.ieee.org/document/5392560/)\n",
    "\n",
    "Tom Mitchell provides a more modern definition: **\"A computer program is said to\n",
    "learn from experience E with respect to some class of tasks T and performance\n",
    "measure P, if its performance at tasks in T, as measured by P, improves with \n",
    "experience E.\"** [M. Tom](http://www.cs.ubbcluj.ro/~gabis/ml/ml-books/McGrawHill%20-%20Machine%20Learning%20-Tom%20Mitchell.pdf)\n",
    "\n",
    "For instance, whay if we try to discover the E, T and P of a Robot driving \n",
    "learning problem:\n",
    "\n",
    "* *Task T:* Driving on public four-lane highways using vision sensors\n",
    "* *Performance Measure P:* Average distance traveled before an error (as \n",
    "judgeed for human overseer)\n",
    "* *Training Experience E:* A sequence of images and steering commands recorded\n",
    "while observing a human driver.\n",
    "\n",
    "## Introduction to Supervised Learning\n",
    "\n",
    "We'll see some examples about what supervised learning is, and at the final let's going to write a more specific definition."
   ]
  },
  {
   "cell_type": "code",
   "execution_count": 17,
   "metadata": {},
   "outputs": [
    {
     "data": {
      "text/plain": [
       "[<matplotlib.lines.Line2D at 0x7f53c0140208>]"
      ]
     },
     "execution_count": 17,
     "metadata": {},
     "output_type": "execute_result"
    },
    {
     "data": {
      "image/png": "[encoded data removed]",
      "text/plain": [
       "<matplotlib.figure.Figure at 0x7f53c03a51d0>"
      ]
     },
     "metadata": {},
     "output_type": "display_data"
    }
   ],
   "source": [
    "import numpy as np\n",
    "import matplotlib.pyplot as plt\n",
    "%matplotlib inline\n",
    "\n",
    "size = [490,600,650,700,850,925,1000,1120,1125]\n",
    "price = [150,200,210,205,260,300,356,350,360]\n",
    "\n",
    "plt.figure()\n",
    "\n",
    "plt.ylabel('Price Thousands')\n",
    "plt.xlabel('Size m²')\n",
    "plt.plot(size,price,'x',markersize=10.0, color='darkblue')"
   ]
  }
 ],
 "metadata": {
  "kernelspec": {
   "display_name": "Python 3",
   "language": "python",
   "name": "python3"
  },
  "language_info": {
   "codemirror_mode": {
    "name": "ipython",
    "version": 3
   },
   "file_extension": ".py",
   "mimetype": "text/x-python",
   "name": "python",
   "nbconvert_exporter": "python",
   "pygments_lexer": "ipython3",
   "version": "3.6.3"
  }
 },
 "nbformat": 4,
 "nbformat_minor": 2
}
