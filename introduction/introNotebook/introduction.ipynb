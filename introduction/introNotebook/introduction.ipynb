{
 "cells": [
  {
   "cell_type": "markdown",
   "metadata": {},
   "source": [
    "# Introduction\n",
    "\n",
    "We are going step by step to understand the basics of **Machine Learning** with some images and examples.\n",
    "\n",
    "## What is Machine Learning ?\n",
    "\n",
    "Is a field of computer science that gives computers the ability to learn\n",
    "without being explicitly programmed [A.L.Samuel](http://ieeexplore.ieee.org/document/5392560/)\n",
    "\n",
    "Tom Mitchell provides a more modern definition: **\"A computer program is said to\n",
    "learn from experience E with respect to some class of tasks T and performance\n",
    "measure P, if its performance at tasks in T, as measured by P, improves with \n",
    "experience E.\"** [M. Tom](http://www.cs.ubbcluj.ro/~gabis/ml/ml-books/McGrawHill%20-%20Machine%20Learning%20-Tom%20Mitchell.pdf)\n",
    "\n",
    "For instance, whay if we try to discover the E, T and P of a Robot driving \n",
    "learning problem:\n",
    "\n",
    "* *Task T:* Driving on public four-lane highways using vision sensors\n",
    "* *Performance Measure P:* Average distance traveled before an error (as \n",
    "judgeed for human overseer)\n",
    "* *Training Experience E:* A sequence of images and steering commands recorded\n",
    "while observing a human driver.\n",
    "\n",
    "## Introduction to Supervised Learning\n",
    "\n",
    "We'll see some examples about what supervised learning is, and at the end let's going to write a more specific definition."
   ]
  },
  {
   "cell_type": "code",
   "execution_count": null,
   "metadata": {},
   "outputs": [],
   "source": [
    "import source.basic_figures as bf\n",
    "%matplotlib inline\n",
    "\n",
    "bf.basicSupervised()"
   ]
  },
  {
   "cell_type": "markdown",
   "metadata": {},
   "source": [
    "In **Supervised Learning** we have a data set and we know what our correct output should look like, we have the idea that a sort of relationship exists between input and output.\n",
    "\n",
    "**Supervised Learning** problems are categorized in two main approaches, one is called *Regression* and the other one is called *classification* problems. In a *regression* problem, we need to predict some results within a continuous output, the idea is to map the input variables into some continuous function. In a classification problem, we need to try to predict results in a discrete output. In other words, we are trying to map input variables into discrete categories."
   ]
  },
  {
   "cell_type": "code",
   "execution_count": null,
   "metadata": {},
   "outputs": [],
   "source": [
    "bf.basicClassification()"
   ]
  },
  {
   "cell_type": "markdown",
   "metadata": {},
   "source": [
    "In this step you try to think about some examples of regression problems and classification problems, discuss with your professor."
   ]
  },
  {
   "cell_type": "markdown",
   "metadata": {},
   "source": [
    "## Introduction to Unsupervised Learning\n",
    "\n",
    "**Unsupervised Learning** allows us to approach problems with little or no idea what our results should look like. We can derive structure from data where we don't necessarily know the effect of the variables.\n",
    "\n",
    "We can derive this structure by clustering the data based on relationships among the variables in the data.\n",
    "\n",
    "With unsupervised learning there is no feedback based on the prediction results.\n",
    "\n",
    "### Examples \n",
    "\n",
    "Clustering: Take a collection of 1,000,000 different genes, and find a way to automatically group these genes into groups that are somehow similar or related by different variables, such as lifespan, location, roles, and so on.\n",
    "\n",
    "Non-clustering: The \"Cocktail Party Algorithm\", allows you to find structure in a chaotic environment. (i.e. identifying individual voices and music from a mesh of sounds at a [cocktail party](https://en.wikipedia.org/wiki/Cocktail_party_effect))."
   ]
  },
  {
   "cell_type": "code",
   "execution_count": null,
   "metadata": {},
   "outputs": [],
   "source": [
    "bf.basicClustering()"
   ]
  },
  {
   "cell_type": "markdown",
   "metadata": {},
   "source": [
    "The idea of an **Unsupervised Learning Algorithm** is to take as input the data as you can see in the cell above. Take this data and obtain a way to create cluster around the different data."
   ]
  }
 ],
 "metadata": {
  "kernelspec": {
   "display_name": "Python 3",
   "language": "python",
   "name": "python3"
  },
  "language_info": {
   "codemirror_mode": {
    "name": "ipython",
    "version": 3
   },
   "file_extension": ".py",
   "mimetype": "text/x-python",
   "name": "python",
   "nbconvert_exporter": "python",
   "pygments_lexer": "ipython3",
   "version": "3.5.2"
  }
 },
 "nbformat": 4,
 "nbformat_minor": 2
}
