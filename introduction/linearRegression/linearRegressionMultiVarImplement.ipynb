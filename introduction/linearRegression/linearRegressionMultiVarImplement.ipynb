{
 "cells": [
  {
   "cell_type": "code",
   "execution_count": 12,
   "metadata": {},
   "outputs": [],
   "source": [
    "import numpy as np\n",
    "import matplotlib.pyplot as plt\n",
    "%matplotlib inline\n",
    "np.set_printoptions(suppress=True) # This command is used to avoid the scientific output\n",
    "\n",
    "## Let's import the data. We have this dataset into data folder\n",
    "data = np.loadtxt('./data/dataHouses2.csv', dtype=np.float64,delimiter=',')\n",
    "x1 = data[:,0] # size of the house\n",
    "x2 = data[:,1] # number of the bedrooms\n",
    "y = data[:,2] # price of the house\n",
    "m = data.shape[0]"
   ]
  }
 ],
 "metadata": {
  "kernelspec": {
   "display_name": "Python 3",
   "language": "python",
   "name": "python3"
  },
  "language_info": {
   "codemirror_mode": {
    "name": "ipython",
    "version": 3
   },
   "file_extension": ".py",
   "mimetype": "text/x-python",
   "name": "python",
   "nbconvert_exporter": "python",
   "pygments_lexer": "ipython3",
   "version": "3.6.3"
  }
 },
 "nbformat": 4,
 "nbformat_minor": 2
}
