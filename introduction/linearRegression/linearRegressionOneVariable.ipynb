{
 "cells": [
  {
   "cell_type": "markdown",
   "metadata": {},
   "source": [
    "# Linear Regression with One Variable\n",
    "\n",
    "We are going to begin this class using an example about the prices of some houses in Portland. We are using information as you know, based on Coursera and Standford Course of Machine Learning. So, let's take a look to the data."
   ]
  },
  {
   "cell_type": "code",
   "execution_count": 5,
   "metadata": {},
   "outputs": [
    {
     "name": "stdout",
     "output_type": "stream",
     "text": [
      "[[  2104. 399900.]\n",
      " [  1600. 329900.]\n",
      " [  2400. 369000.]\n",
      " [  1416. 232000.]]\n"
     ]
    }
   ],
   "source": [
    "import numpy as np\n",
    "import matplotlib.pyplot as plt\n",
    "%matplotlib inline\n",
    "np.set_printoptions(suppress=True) # This command is used to avoid the scientific output\n",
    "\n",
    "## Let's import the data. We have this dataset into data folder\n",
    "data = np.loadtxt('./data/dataHouses.csv', dtype=np.float64,delimiter=',')\n",
    "print(data[:4,::]) # See the first 4 rows of our data"
   ]
  },
  {
   "cell_type": "markdown",
   "metadata": {},
   "source": [
    "Now, we have our data in the **data** variable of our python code. The idea is like our first step create a figure and plot all the information.\n",
    "\n",
    "Our information, as you can see, have two columns, the first column is the size of the house, the second is the price of the house. Let's make the figure:"
   ]
  },
  {
   "cell_type": "code",
   "execution_count": 17,
   "metadata": {},
   "outputs": [
    {
     "data": {
      "text/plain": [
       "<matplotlib.collections.PathCollection at 0x7f021e92f080>"
      ]
     },
     "execution_count": 17,
     "metadata": {},
     "output_type": "execute_result"
    },
    {
     "data": {
      "image/png": "[encoded data removed]",
      "text/plain": [
       "<matplotlib.figure.Figure at 0x7f021e777a20>"
      ]
     },
     "metadata": {},
     "output_type": "display_data"
    }
   ],
   "source": [
    "X = data[:,0]\n",
    "Y = data[:,1]\n",
    "\n",
    "plt.figure()\n",
    "plt.title('House Prices in Portland', fontsize=20)\n",
    "plt.xlabel('Size of House', fontsize=15)\n",
    "plt.ylabel('Price', fontsize=15)\n",
    "plt.scatter(X,Y,color='blue')"
   ]
  },
  {
   "cell_type": "markdown",
   "metadata": {},
   "source": [
    "## Model Representation\n",
    "\n",
    "To establish notation for future use, we'll use $x^{(i)}$ to denote the *input* variables (in this case the size of the House), sometimes you could call it input features, and $y^{(i)}$ to denote the *output* or target variable that we are trying to predict (in this case the price). A pair $(x^{(i)},y^{(i)})$ is called a training example, and the dataset that we'll be using to learn --a list of **m** training examples $(x^{(i)},y^{(i)})$; $i=1,2,3,...,m$-- is called a training set. Note that the superscript **i** in the notation is simply an index into the training set, and has nothing to do with exponentiation. We will also use **X** to denote the space of input values, and **Y** to denote the space of output values. In this example, **X=Y=R**"
   ]
  }
 ],
 "metadata": {
  "kernelspec": {
   "display_name": "Python 3",
   "language": "python",
   "name": "python3"
  },
  "language_info": {
   "codemirror_mode": {
    "name": "ipython",
    "version": 3
   },
   "file_extension": ".py",
   "mimetype": "text/x-python",
   "name": "python",
   "nbconvert_exporter": "python",
   "pygments_lexer": "ipython3",
   "version": "3.5.2"
  }
 },
 "nbformat": 4,
 "nbformat_minor": 2
}
