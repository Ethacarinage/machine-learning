{
 "cells": [
  {
   "cell_type": "markdown",
   "metadata": {},
   "source": [
    "# Implementing A Simple Linear Regression\n",
    "\n",
    "The first thing that you could do when you are going to work with a problem with data it is to try to plot the data. So let's try to create a little plot."
   ]
  },
  {
   "cell_type": "code",
   "execution_count": null,
   "metadata": {},
   "outputs": [],
   "source": [
    "import numpy as np\n",
    "import matplotlib.pyplot as plt\n",
    "%matplotlib inline\n",
    "np.set_printoptions(suppress=True) # This command is used to avoid the scientific output\n",
    "\n",
    "## Let's import the data. We have this dataset into data folder\n",
    "data = np.loadtxt('./data/foodTruck.csv', dtype=np.float64,delimiter=',')\n",
    "X = data[:,0]; # Population of a city\n",
    "y = data[:,1]; # Profit in a city\n",
    "m = data.shape[0]\n",
    "\n",
    "plt.figure()\n",
    "plt.title('Food Truck Problem', fontsize=20)\n",
    "plt.xlabel('Population of City in 10.000s',fontsize=15)\n",
    "plt.ylabel('Profit in $10.000s',fontsize=15)\n",
    "plt.scatter(X,y)"
   ]
  },
  {
   "cell_type": "code",
   "execution_count": null,
   "metadata": {},
   "outputs": [],
   "source": [
    "XX = np.ones((m,2)) # in order to vectorize our calculation we need to generate our X data to have one more column\n",
    "XX[:,1] = X # We add our data to this new data vector\n",
    "theta = np.zeros((2,1)) # Theta Vector. Parameters of our model\n",
    "\n",
    "iterations = 1500\n",
    "alpha = 0.01"
   ]
  },
  {
   "cell_type": "code",
   "execution_count": null,
   "metadata": {},
   "outputs": [],
   "source": [
    "## Here we define the function to compute the cost to minimize\n",
    "def computeCost(X,y,theta):\n",
    "    m = y.shape[0]\n",
    "    J = 0.0\n",
    "    h = np.matmul(theta.T,X.T)\n",
    "    J = 1/(2*m)*np.sum(np.square(np.subtract(h,y)))\n",
    "    return J"
   ]
  },
  {
   "cell_type": "code",
   "execution_count": null,
   "metadata": {},
   "outputs": [],
   "source": [
    "def gradientDescent(X,y,theta,alpha,num_iters):\n",
    "    m = y.shape[0]\n",
    "    J_history = np.zeros((num_iters,1))\n",
    "    for i in range(num_iters):\n",
    "        h = np.matmul(theta.T,X.T)\n",
    "        theta[0,0] = theta[0,0] - alpha * 1/m * np.sum(np.subtract(h,y)) \n",
    "        theta[1,0] = theta[1,0] - alpha * 1/m * np.sum(np.subtract(h,y)*X[:,1])\n",
    "        J_history[i,0] = computeCost(X,y,theta)\n",
    "    return theta,J_history"
   ]
  },
  {
   "cell_type": "code",
   "execution_count": null,
   "metadata": {},
   "outputs": [],
   "source": [
    "theta,J_history = gradientDescent(XX,y,theta,alpha,iterations)\n",
    "plt.figure(figsize = (15,4),dpi=100)\n",
    "plt.subplot(1,2,1)\n",
    "plt.title('Cost Function', fontsize=20)\n",
    "plt.xlabel('Number of Iterations',fontsize=15)\n",
    "plt.ylabel('J(theta)',fontsize=15)\n",
    "plt.plot(J_history,'b')\n",
    "\n",
    "yest = np.matmul(theta.T,XX.T)\n",
    "plt.subplot(1,2,2)\n",
    "plt.title('Food Truck Problem', fontsize=20)\n",
    "plt.xlabel('Population of City in 10.000s',fontsize=15)\n",
    "plt.ylabel('Profit in $10.000s',fontsize=15)\n",
    "plt.plot(X,yest.T,'r')\n",
    "plt.scatter(X,y)\n"
   ]
  }
 ],
 "metadata": {
  "kernelspec": {
   "display_name": "Python 3",
   "language": "python",
   "name": "python3"
  },
  "language_info": {
   "codemirror_mode": {
    "name": "ipython",
    "version": 3
   },
   "file_extension": ".py",
   "mimetype": "text/x-python",
   "name": "python",
   "nbconvert_exporter": "python",
   "pygments_lexer": "ipython3",
   "version": "3.5.2"
  }
 },
 "nbformat": 4,
 "nbformat_minor": 2
}
