{
 "cells": [
  {
   "cell_type": "markdown",
   "metadata": {},
   "source": [
    "# Multivariate Linear Regression\n",
    "\n",
    "Now, we are going to make some examples about the **Multivariate Linear Regression**. However instead of using python without \"any\" help to make our implementation, we are going to use a Python package called **SciKit Learn**.\n",
    "\n",
    "But, first let's define some notation:\n",
    "\n",
    "$x_{j}^{(i)}=$ value of feature $j$ in the $i^{th}$ training example\n",
    "$x^{(i)}=$ the input (features) of the $i^{th}$ training example\n",
    "$m=$ the number of training examples\n",
    "$n=$ the number of features\n",
    "\n",
    "The multivariable form of the hypothesis function accomodating these multiple features is as follows:\n",
    "\n",
    "$h_{\\theta}(x)=\\theta_{0}+\\theta_{1}x_{1}++\\theta_{2}x_{2}++\\theta_{3}x_{3}+ ... +\\theta_{n}x_{n}$\n",
    "\n",
    "In order to develop intuition about this function, we can think about $\\theta_{0}$ as the basic price of a house, $\\theta_{1}$ as the price per square meter, $\\theta_{2}$ as the price per floor, etc. $x_{1}$ will be the number of square meters in the house, $x_{2}$ the number of floors, etc.\n",
    "\n",
    "Using the definition of matrix multiplication, our multivariate hypothesis function can be concisely represented as:\n",
    "\n",
    "$\\begin{bmatrix}\n",
    "\\theta_{0} & \\theta_{1} & \\ldots & \\theta_{n}\n",
    "\\end{bmatrix}\n",
    "\\begin{bmatrix}\n",
    "x_{0} \\\\ x_{1} \\\\ \\vdots \\\\ x_{n}\n",
    "\\end{bmatrix}=\\theta^{T}x$\n",
    "\n",
    "This is a vectorization of our hypothesis function for one training example. Remember that in this case we are assuming that $x_{0}^{(i)} = 1$ for $(i \\in 1,\\ldots,m)$\n",
    "\n",
    "## Gradient Descent for Multiple Variables\n",
    "\n",
    "The gradient descent equation itself is generally the same form; we just have to repeat it for our **n** features:\n",
    "\n",
    "Repeat until convergence:{\n",
    "$$\\begin{equation}\n",
    "    \\begin{split}\n",
    "        \\theta_{0} := \\theta_{0} - \\alpha \\frac{1}{m} \\sum_{i=1}^{m}(h_{\\theta}(x^{(i)})-y^{(i)})x_{0}^{(i)} \\\\\n",
    "        \\theta_{1} := \\theta_{1} - \\alpha \\frac{1}{m} \\sum_{i=1}^{m}(h_{\\theta}(x^{(i)})-y^{(i)})x_{1}^{(i)} \\\\ \n",
    "        \\theta_{2} := \\theta_{2} - \\alpha \\frac{1}{m} \\sum_{i=1}^{m}(h_{\\theta}(x^{(i)})-y^{(i)})x_{2}^{(i)} \\\\ \n",
    "    \\end{split}\n",
    "\\end{equation}$$\n",
    "}"
   ]
  }
 ],
 "metadata": {
  "kernelspec": {
   "display_name": "Python 3",
   "language": "python",
   "name": "python3"
  },
  "language_info": {
   "codemirror_mode": {
    "name": "ipython",
    "version": 3
   },
   "file_extension": ".py",
   "mimetype": "text/x-python",
   "name": "python",
   "nbconvert_exporter": "python",
   "pygments_lexer": "ipython3",
   "version": "3.5.2"
  }
 },
 "nbformat": 4,
 "nbformat_minor": 2
}
